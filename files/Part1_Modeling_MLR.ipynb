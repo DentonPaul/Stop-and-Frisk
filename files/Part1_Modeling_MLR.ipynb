{
 "cells": [
  {
   "cell_type": "markdown",
   "metadata": {},
   "source": [
    "# An Analysis on [Stop and Frisk](https://en.wikipedia.org/wiki/Stop-and-frisk_in_New_York_City)"
   ]
  },
  {
   "cell_type": "markdown",
   "metadata": {},
   "source": [
    "#### By: Denton Paul"
   ]
  },
  {
   "cell_type": "markdown",
   "metadata": {},
   "source": [
    "# Part 1 - Modeling/MLR"
   ]
  },
  {
   "cell_type": "markdown",
   "metadata": {},
   "source": [
    "## Introduction"
   ]
  },
  {
   "cell_type": "markdown",
   "metadata": {},
   "source": [
    "The 2020 Democratic Party presidential primaries have seen renewed scrutiny of the New York police department's policy of [stop-and-frisk](https://en.wikipedia.org/wiki/Stop-and-frisk_in_New_York_City). The program was controversial because of suggestions of racial profiling, i.e. that some minorities were unfairly targeted by the police.\n",
    "\n",
    "The dataset frisk.csv includes recordings of NYPD stops for a fifteen-month period in 1998 - 1999. The specific variables contained in this data are:\n",
    "+ precint: [NYC precint](https://data.cityofnewyork.us/Public-Safety/Police-Precincts/78dh-3ptz) indicator, with values 1, 2, . . . , 75. \n",
    "+ eth: Ethnicity indicator, with 1 denoting Black, 2 denoting Hispanic, and 3 denoting White.\n",
    "+ popl: The total population of a particular ethnicity in a given precint. \n",
    "+ crime: Crime category indicator, with 1 denoting violent crimes, 2 denoting weapons crimes, 3 denoting property crimes, and 4 denoting drug crimes.\n",
    "+ stops: Number of police stops for a specific crime category among individuals of a particular ethnicity in a given precint. \n",
    "+ past: The total number of past arrests for a specific crime category among individuals of a particular ethnicity in a given precint."
   ]
  },
  {
   "cell_type": "code",
   "execution_count": 1,
   "metadata": {},
   "outputs": [],
   "source": [
    "%matplotlib inline\n",
    "import numpy as np\n",
    "import pandas as pd\n",
    "import statsmodels.formula.api as smf"
   ]
  },
  {
   "cell_type": "markdown",
   "metadata": {},
   "source": [
    "1) We will load the dataset from $\\mathtt{frisk.csv}$. The column crime indicates 4 different kinds of crime. For simplicity, we will pool information across crime types. Then, we will produce a smaller dataframe without the column $\\mathtt{crime}$, and with $\\mathtt{stops}$ and $\\mathtt{popl}$ giving the total number of stops and past arrests for that $\\mathtt{(precinct,eth)}$ irrespective of crime type."
   ]
  },
  {
   "cell_type": "code",
   "execution_count": 195,
   "metadata": {},
   "outputs": [
    {
     "data": {
      "text/html": [
       "<div>\n",
       "<style scoped>\n",
       "    .dataframe tbody tr th:only-of-type {\n",
       "        vertical-align: middle;\n",
       "    }\n",
       "\n",
       "    .dataframe tbody tr th {\n",
       "        vertical-align: top;\n",
       "    }\n",
       "\n",
       "    .dataframe thead th {\n",
       "        text-align: right;\n",
       "    }\n",
       "</style>\n",
       "<table border=\"1\" class=\"dataframe\">\n",
       "  <thead>\n",
       "    <tr style=\"text-align: right;\">\n",
       "      <th></th>\n",
       "      <th>precinct</th>\n",
       "      <th>eth</th>\n",
       "      <th>popl</th>\n",
       "      <th>stops</th>\n",
       "      <th>past</th>\n",
       "    </tr>\n",
       "  </thead>\n",
       "  <tbody>\n",
       "    <tr>\n",
       "      <th>0</th>\n",
       "      <td>1</td>\n",
       "      <td>1</td>\n",
       "      <td>1720</td>\n",
       "      <td>202</td>\n",
       "      <td>980</td>\n",
       "    </tr>\n",
       "    <tr>\n",
       "      <th>1</th>\n",
       "      <td>1</td>\n",
       "      <td>2</td>\n",
       "      <td>1368</td>\n",
       "      <td>102</td>\n",
       "      <td>295</td>\n",
       "    </tr>\n",
       "    <tr>\n",
       "      <th>2</th>\n",
       "      <td>1</td>\n",
       "      <td>3</td>\n",
       "      <td>23854</td>\n",
       "      <td>81</td>\n",
       "      <td>381</td>\n",
       "    </tr>\n",
       "    <tr>\n",
       "      <th>3</th>\n",
       "      <td>2</td>\n",
       "      <td>1</td>\n",
       "      <td>2596</td>\n",
       "      <td>132</td>\n",
       "      <td>753</td>\n",
       "    </tr>\n",
       "    <tr>\n",
       "      <th>4</th>\n",
       "      <td>2</td>\n",
       "      <td>2</td>\n",
       "      <td>6844</td>\n",
       "      <td>144</td>\n",
       "      <td>557</td>\n",
       "    </tr>\n",
       "    <tr>\n",
       "      <th>5</th>\n",
       "      <td>2</td>\n",
       "      <td>3</td>\n",
       "      <td>9379</td>\n",
       "      <td>71</td>\n",
       "      <td>431</td>\n",
       "    </tr>\n",
       "    <tr>\n",
       "      <th>6</th>\n",
       "      <td>3</td>\n",
       "      <td>1</td>\n",
       "      <td>2092</td>\n",
       "      <td>752</td>\n",
       "      <td>2188</td>\n",
       "    </tr>\n",
       "    <tr>\n",
       "      <th>7</th>\n",
       "      <td>3</td>\n",
       "      <td>2</td>\n",
       "      <td>3633</td>\n",
       "      <td>441</td>\n",
       "      <td>627</td>\n",
       "    </tr>\n",
       "    <tr>\n",
       "      <th>8</th>\n",
       "      <td>3</td>\n",
       "      <td>3</td>\n",
       "      <td>56304</td>\n",
       "      <td>410</td>\n",
       "      <td>1238</td>\n",
       "    </tr>\n",
       "    <tr>\n",
       "      <th>9</th>\n",
       "      <td>4</td>\n",
       "      <td>1</td>\n",
       "      <td>5699</td>\n",
       "      <td>385</td>\n",
       "      <td>471</td>\n",
       "    </tr>\n",
       "  </tbody>\n",
       "</table>\n",
       "</div>"
      ],
      "text/plain": [
       "   precinct  eth   popl  stops  past\n",
       "0         1    1   1720    202   980\n",
       "1         1    2   1368    102   295\n",
       "2         1    3  23854     81   381\n",
       "3         2    1   2596    132   753\n",
       "4         2    2   6844    144   557\n",
       "5         2    3   9379     71   431\n",
       "6         3    1   2092    752  2188\n",
       "7         3    2   3633    441   627\n",
       "8         3    3  56304    410  1238\n",
       "9         4    1   5699    385   471"
      ]
     },
     "execution_count": 195,
     "metadata": {},
     "output_type": "execute_result"
    }
   ],
   "source": [
    "df = pd.read_csv('frisk.csv')\n",
    "\n",
    "orig = (df.groupby(['precinct', 'eth'])\n",
    "   .agg({'popl': 'first', 'stops': 'sum', 'past': 'sum'}))\n",
    "orig = orig.reset_index()\n",
    "orig.head(10)\n",
    "\n",
    "ggplot() + geom_boxplot(dfo, aes(x='Location', y='Price'), fill='gold', size=3, alpha=.7) + \\\n",
    "geom_line(df_mn, aes(x='Location', y='Price', group=0))\n",
    "\n",
    "dfwithoutoutlier\n",
    "df_mn = dfo.groupby('Location').mean()"
   ]
  },
  {
   "cell_type": "markdown",
   "metadata": {},
   "source": [
    "2) We will plot a scatter plot of population of precinct (x-axis) vs number of stops in that precinct (y-axis). \n",
    "Next, we will fit a straight line __passing through the origin__ for this data, with $\\mathtt{stops}$ as output and $\\mathtt{popl}$ as input.\n",
    "\n",
    "The slope of the line gives the increase in the number of stops if the population increases by 1 (or put another way, the average number of stops a new person would experience in that period)."
   ]
  },
  {
   "cell_type": "code",
   "execution_count": 196,
   "metadata": {},
   "outputs": [
    {
     "name": "stdout",
     "output_type": "stream",
     "text": [
      "Slope: 0.013381\n"
     ]
    },
    {
     "data": {
      "text/plain": [
       "[<matplotlib.lines.Line2D at 0x7fb7bde66588>]"
      ]
     },
     "execution_count": 196,
     "metadata": {},
     "output_type": "execute_result"
    },
    {
     "data": {
      "image/png": "[encoded data removed]",
      "text/plain": [
       "<Figure size 432x288 with 1 Axes>"
      ]
     },
     "metadata": {},
     "output_type": "display_data"
    }
   ],
   "source": [
    "ax = orig.plot(kind='scatter', x='popl', y='stops', alpha=0.7)\n",
    "\n",
    "mod = smf.ols(formula='stops~popl-1', data=orig)\n",
    "rslt = mod.fit()\n",
    "\n",
    "xmin, xmax = orig.popl.min(), orig.popl.max()\n",
    "x = np.arange(xmin, xmax)\n",
    "\n",
    "print('Slope: %f' %(rslt.params[0]))\n",
    "ax.plot(x, x*rslt.params[0], linewidth=1)"
   ]
  },
  {
   "cell_type": "markdown",
   "metadata": {},
   "source": [
    "- Note: The stops double when population doubles."
   ]
  },
  {
   "cell_type": "markdown",
   "metadata": {},
   "source": [
    "3) Now we will fit a general straight line for this data, again with $\\mathtt{stops}$ as output and $\\mathtt{popl}$ as input, and report the parameters. We will then create another scatterplot of the data with this line plotted.\n",
    "\n",
    "__Note:__ The intercept of this line gives the number of stops when the population equals 0. Clearly, this does not make any sense. However, in practice, we are not interested in such input values. Including the intercept allows us to better fit the data for useful input values. It is important to not blindly extrapolate to values where the model is unreasonable, or where we haven't seen any data."
   ]
  },
  {
   "cell_type": "code",
   "execution_count": 197,
   "metadata": {},
   "outputs": [
    {
     "name": "stdout",
     "output_type": "stream",
     "text": [
      "Intercept    339.507183\n",
      "popl           0.008124\n",
      "dtype: float64\n"
     ]
    },
    {
     "data": {
      "text/plain": [
       "[<matplotlib.lines.Line2D at 0x7fb7be115d30>]"
      ]
     },
     "execution_count": 197,
     "metadata": {},
     "output_type": "execute_result"
    },
    {
     "data": {
      "image/png": "[encoded data removed]",
      "text/plain": [
       "<Figure size 432x288 with 1 Axes>"
      ]
     },
     "metadata": {},
     "output_type": "display_data"
    }
   ],
   "source": [
    "sec = orig.plot(kind='scatter', x='popl', y='stops', alpha=0.7)\n",
    "\n",
    "mod2 = smf.ols(formula='stops~popl', data=orig)\n",
    "rslt2 = mod2.fit()\n",
    "\n",
    "print(rslt2.params)\n",
    "sec.plot(rslt2.params[0] + x*rslt2.params[1], linewidth=1)"
   ]
  },
  {
   "cell_type": "markdown",
   "metadata": {},
   "source": [
    "- **slope interpretation**: for an increase of 1 for popl, there is a 0.008124 increase in stops.\n",
    "    - This is the average growth rate for stops as popl increases.\n",
    "- The stops do not double due to the presence of a non zero intercept."
   ]
  },
  {
   "cell_type": "markdown",
   "metadata": {},
   "source": [
    "The previous model assumes the numbers of stops in a precinct depends only on the precinct's population. Another approach is to model the number of stops in a precinct as a function of the precinct's crime rate. As a proxy for crime rate, we will use the number of arrests in the previous year (column $\\mathtt{past}$).\n",
    "\n",
    "4) We will fit a linear function with $\\mathtt{past}$$\\mathtt{stops}$ as output, and report the slope and intercept. We will then plot a scatterplot of $\\mathtt{past}$ vs $\\mathtt{stops}$, along with the fitted line."
   ]
  },
  {
   "cell_type": "code",
   "execution_count": 198,
   "metadata": {},
   "outputs": [
    {
     "name": "stdout",
     "output_type": "stream",
     "text": [
      "Intercept    159.196710\n",
      "past           0.404165\n",
      "dtype: float64\n"
     ]
    },
    {
     "data": {
      "text/plain": [
       "[<matplotlib.lines.Line2D at 0x7fb7bdddc470>]"
      ]
     },
     "execution_count": 198,
     "metadata": {},
     "output_type": "execute_result"
    },
    {
     "data": {
      "image/png": "[encoded data removed]",
      "text/plain": [
       "<Figure size 432x288 with 1 Axes>"
      ]
     },
     "metadata": {},
     "output_type": "display_data"
    }
   ],
   "source": [
    "axpast = orig.plot(kind='scatter', x='past', y='stops', alpha=0.7)\n",
    "\n",
    "mod3 = smf.ols(formula='stops~past', data=orig)\n",
    "rslt3 = mod3.fit()\n",
    "\n",
    "xminpast, xmaxpast = orig.past.min(), orig.past.max()\n",
    "xpast = np.arange(xminpast, xmaxpast)\n",
    "\n",
    "print(rslt3.params)\n",
    "axpast.plot(xpast, rslt3.params[0] + rslt3.params[1]*xpast, linewidth=1)"
   ]
  },
  {
   "cell_type": "markdown",
   "metadata": {},
   "source": [
    "- **slope**: 0.404165, **intercept**: 159.196710\n",
    "\n",
    "- **slope interpretation**: for an increase of 1 for past crimes, there is a 0.404 increase in stops.\n",
    "    - This is the average growth rate for stops as past crime rate increases."
   ]
  },
  {
   "cell_type": "markdown",
   "metadata": {},
   "source": [
    "5) In general, we expect the number of stops to depend on both population size and crime rate. Hence, we will fit a linear model with $\\mathtt{stops}$ as the output, and both $\\mathtt{popl}$ __and__ $\\mathtt{past}$ as inputs.\n",
    "\n",
    "This model breaks down the number of stops as dependent on two factors, population size and crime rate. The coefficient associated with $\\mathtt{popl}$ gives the increase in the number stops if $\\mathtt{popl}$ increases by one, _keeping $\\mathtt{past}$ fixed_ (i.e. controlling for crime rate)."
   ]
  },
  {
   "cell_type": "code",
   "execution_count": 199,
   "metadata": {},
   "outputs": [
    {
     "name": "stdout",
     "output_type": "stream",
     "text": [
      "5a)\n",
      "Intercept    104.501231\n",
      "popl           0.002941\n",
      "past           0.371986\n",
      "dtype: float64\n"
     ]
    }
   ],
   "source": [
    "mod4 = smf.ols(formula='stops~popl+past', data=orig)\n",
    "rslt4 = mod4.fit()\n",
    "rslt4.summary()\n",
    "print('5a)')\n",
    "print(rslt4.params)"
   ]
  },
  {
   "cell_type": "markdown",
   "metadata": {},
   "source": [
    "- The coefficient associated with $past$ gives the increase in the number $stops$ if $past$ increases by one, keeping $popl$ fixed (i.e. controlling for total population)\n",
    "- So, holding population constant, there is a .37 increase in the number of stops for every additional past crime."
   ]
  },
  {
   "cell_type": "markdown",
   "metadata": {},
   "source": [
    "6) Again, we will produce scatterplots of popl vs stops and past vs stops, now coloring each point according to the value of eth."
   ]
  },
  {
   "cell_type": "code",
   "execution_count": 200,
   "metadata": {},
   "outputs": [
    {
     "data": {
      "text/plain": [
       "<matplotlib.axes._subplots.AxesSubplot at 0x7fb7bdabb978>"
      ]
     },
     "execution_count": 200,
     "metadata": {},
     "output_type": "execute_result"
    },
    {
     "data": {
      "image/png": "[encoded data removed]",
      "text/plain": [
       "<Figure size 432x288 with 2 Axes>"
      ]
     },
     "metadata": {},
     "output_type": "display_data"
    }
   ],
   "source": [
    "orig.plot(kind='scatter', x='popl', y='stops', c=orig['eth'], cmap='gist_rainbow')"
   ]
  },
  {
   "cell_type": "markdown",
   "metadata": {},
   "source": [
    "7) We will now create a new dataframe called eth\\_count from frisk with 3 rows called 'black', 'hispanic' and 'white', and three columns 'stops', 'popl' and 'past'. Each element of $\\mathtt{stops}$ should give the total number of stops for the 3 groups, and similarly for $\\mathtt{popl}$ and $\\mathtt{past}$. $\\ $ \n",
    "\n",
    "Next, we will devide each column of eth_count by its sum, producing a new dataframe called eth_prop. Here, each element of $\\mathtt{stops}$ should give the proportion of stops for the 3 groups, and similarly for popl and past."
   ]
  },
  {
   "cell_type": "code",
   "execution_count": 201,
   "metadata": {},
   "outputs": [
    {
     "data": {
      "text/html": [
       "<div>\n",
       "<style scoped>\n",
       "    .dataframe tbody tr th:only-of-type {\n",
       "        vertical-align: middle;\n",
       "    }\n",
       "\n",
       "    .dataframe tbody tr th {\n",
       "        vertical-align: top;\n",
       "    }\n",
       "\n",
       "    .dataframe thead th {\n",
       "        text-align: right;\n",
       "    }\n",
       "</style>\n",
       "<table border=\"1\" class=\"dataframe\">\n",
       "  <thead>\n",
       "    <tr style=\"text-align: right;\">\n",
       "      <th></th>\n",
       "      <th>popl</th>\n",
       "      <th>stops</th>\n",
       "      <th>past</th>\n",
       "    </tr>\n",
       "    <tr>\n",
       "      <th>race</th>\n",
       "      <th></th>\n",
       "      <th></th>\n",
       "      <th></th>\n",
       "    </tr>\n",
       "  </thead>\n",
       "  <tbody>\n",
       "    <tr>\n",
       "      <th>black</th>\n",
       "      <td>1865895</td>\n",
       "      <td>69823</td>\n",
       "      <td>125719</td>\n",
       "    </tr>\n",
       "    <tr>\n",
       "      <th>hispanic</th>\n",
       "      <td>1732269</td>\n",
       "      <td>44623</td>\n",
       "      <td>74898</td>\n",
       "    </tr>\n",
       "    <tr>\n",
       "      <th>white</th>\n",
       "      <td>3175354</td>\n",
       "      <td>16974</td>\n",
       "      <td>35922</td>\n",
       "    </tr>\n",
       "  </tbody>\n",
       "</table>\n",
       "</div>"
      ],
      "text/plain": [
       "             popl  stops    past\n",
       "race                            \n",
       "black     1865895  69823  125719\n",
       "hispanic  1732269  44623   74898\n",
       "white     3175354  16974   35922"
      ]
     },
     "execution_count": 201,
     "metadata": {},
     "output_type": "execute_result"
    }
   ],
   "source": [
    "def race(x):\n",
    "    if x == 1:\n",
    "        return 'black'\n",
    "    elif x == 2:\n",
    "        return 'hispanic'\n",
    "    else:\n",
    "        return 'white'\n",
    "orig['race'] = orig.apply(lambda row: race(row.eth) , axis = 1)\n",
    "eth_count = orig.groupby('race').agg({'popl':'sum', 'stops': 'sum', 'past': 'sum'})\n",
    "eth_count"
   ]
  },
  {
   "cell_type": "code",
   "execution_count": 202,
   "metadata": {},
   "outputs": [
    {
     "data": {
      "text/html": [
       "<div>\n",
       "<style scoped>\n",
       "    .dataframe tbody tr th:only-of-type {\n",
       "        vertical-align: middle;\n",
       "    }\n",
       "\n",
       "    .dataframe tbody tr th {\n",
       "        vertical-align: top;\n",
       "    }\n",
       "\n",
       "    .dataframe thead th {\n",
       "        text-align: right;\n",
       "    }\n",
       "</style>\n",
       "<table border=\"1\" class=\"dataframe\">\n",
       "  <thead>\n",
       "    <tr style=\"text-align: right;\">\n",
       "      <th></th>\n",
       "      <th>popl</th>\n",
       "      <th>stops</th>\n",
       "      <th>past</th>\n",
       "    </tr>\n",
       "    <tr>\n",
       "      <th>race</th>\n",
       "      <th></th>\n",
       "      <th></th>\n",
       "      <th></th>\n",
       "    </tr>\n",
       "  </thead>\n",
       "  <tbody>\n",
       "    <tr>\n",
       "      <th>black</th>\n",
       "      <td>0.275469</td>\n",
       "      <td>0.531297</td>\n",
       "      <td>0.531494</td>\n",
       "    </tr>\n",
       "    <tr>\n",
       "      <th>hispanic</th>\n",
       "      <td>0.255741</td>\n",
       "      <td>0.339545</td>\n",
       "      <td>0.316641</td>\n",
       "    </tr>\n",
       "    <tr>\n",
       "      <th>white</th>\n",
       "      <td>0.468789</td>\n",
       "      <td>0.129158</td>\n",
       "      <td>0.151865</td>\n",
       "    </tr>\n",
       "  </tbody>\n",
       "</table>\n",
       "</div>"
      ],
      "text/plain": [
       "              popl     stops      past\n",
       "race                                  \n",
       "black     0.275469  0.531297  0.531494\n",
       "hispanic  0.255741  0.339545  0.316641\n",
       "white     0.468789  0.129158  0.151865"
      ]
     },
     "execution_count": 202,
     "metadata": {},
     "output_type": "execute_result"
    }
   ],
   "source": [
    "eth_prop = eth_count.div(eth_count.sum(axis=0), axis=1)\n",
    "eth_prop"
   ]
  },
  {
   "cell_type": "markdown",
   "metadata": {},
   "source": [
    "8) Now, we will create a barplot from eth_prop consisting of 3 groups, 'black', 'hispanic' and 'white'. Each group should have 3 different colored bars giving the proportion that group forms of total stops, population and past arrests.\n",
    "\n",
    "Next, we will create a barplot from eth_prop consisting of 3 groups, 'stops', 'popl' and 'past'."
   ]
  },
  {
   "cell_type": "code",
   "execution_count": 203,
   "metadata": {},
   "outputs": [
    {
     "data": {
      "text/plain": [
       "<matplotlib.axes._subplots.AxesSubplot at 0x7fb7bda51ac8>"
      ]
     },
     "execution_count": 203,
     "metadata": {},
     "output_type": "execute_result"
    },
    {
     "data": {
      "image/png": "[encoded data removed]",
      "text/plain": [
       "<Figure size 432x288 with 1 Axes>"
      ]
     },
     "metadata": {},
     "output_type": "display_data"
    }
   ],
   "source": [
    "eth_prop.plot(kind='bar', rot=0, alpha=0.8)"
   ]
  },
  {
   "cell_type": "code",
   "execution_count": 204,
   "metadata": {},
   "outputs": [
    {
     "data": {
      "text/plain": [
       "<matplotlib.axes._subplots.AxesSubplot at 0x7fb7bda37198>"
      ]
     },
     "execution_count": 204,
     "metadata": {},
     "output_type": "execute_result"
    },
    {
     "data": {
      "image/png": "[encoded data removed]",
      "text/plain": [
       "<Figure size 432x288 with 1 Axes>"
      ]
     },
     "metadata": {},
     "output_type": "display_data"
    }
   ],
   "source": [
    "eth_prop.T.plot(kind='bar', rot=0, alpha=0.8)"
   ]
  },
  {
   "cell_type": "markdown",
   "metadata": {},
   "source": [
    "Looking at the plots above, an opponent of stop-and-frisk would claim the the number of times a black or hispanic person was stopped was disproportionate to their population size. A supporter of the policy would argue that the stops are proportionate with past arrests (or crime-rate). To better understand this, we need to simultaneously understand the effects of both population and crime rate."
   ]
  },
  {
   "cell_type": "markdown",
   "metadata": {},
   "source": [
    "9) We will now fit a linear model with stops as output, and popl and past as input separately for each ethnic group. It is difficult to compare slopes if each model has a different intercept, therefore we will force them to pass through the origin."
   ]
  },
  {
   "cell_type": "code",
   "execution_count": 205,
   "metadata": {},
   "outputs": [
    {
     "name": "stdout",
     "output_type": "stream",
     "text": [
      "Black\n",
      "popl    0.013460\n",
      "past    0.276941\n",
      "dtype: float64 \n",
      "\n",
      "Hispanic\n",
      "popl    0.018771\n",
      "past    0.105169\n",
      "dtype: float64 \n",
      "\n",
      "White\n",
      "popl    0.003802\n",
      "past    0.137792\n",
      "dtype: float64\n"
     ]
    }
   ],
   "source": [
    "black = orig[orig['eth']==1]\n",
    "hispanic = orig[orig['eth']==2]\n",
    "white = orig[orig['eth'] == 3]\n",
    "\n",
    "bmod = smf.ols('stops~popl+past-1', data=black)\n",
    "brslt = bmod.fit()\n",
    "print('Black')\n",
    "print(brslt.params, '\\n')\n",
    "\n",
    "hmod = smf.ols('stops~popl+past-1', data=hispanic)\n",
    "hrslt = hmod.fit()\n",
    "print('Hispanic')\n",
    "print(hrslt.params, '\\n')\n",
    "\n",
    "wmod = smf.ols('stops~popl+past-1', data=white)\n",
    "wrslt = wmod.fit()\n",
    "print('White')\n",
    "print(wrslt.params)"
   ]
  },
  {
   "cell_type": "markdown",
   "metadata": {},
   "source": [
    "### Summary:\n",
    "- Black has the largest past coefficient. This means that as the number of past arrests increases by one, holding population constant, the number of stops will increase by 0.28\n",
    "- Hispanic has the smallest past coefficient. White is in between hispanic and black.\n",
    "- Hispanic has the largest popl coefficient. This means that as the population of that race increases by one, holding past arrests constant, the number of stops will increase by 0.019\n",
    "- White has the lowest popl coefficient by far, meaning that the number of stops are not very affected by an increase in white population. Black's stop affect of population change is inbetween hispanic and white."
   ]
  },
  {
   "cell_type": "markdown",
   "metadata": {},
   "source": [
    "Instead of three models on three datasets (for each group) it is more informative to fit a single model on a single dataset that also includes group information."
   ]
  },
  {
   "cell_type": "markdown",
   "metadata": {},
   "source": [
    "10) Towards this, we will first add 3 columns to $\\mathtt{frisk}$, 'black', 'hispanic' and 'white'. Elements of these should be 0 unless the row belongs to the corresponding column, in which case it should be 1 (e.g. if eth = 1, these columns have values (1,0,0) respectively)."
   ]
  },
  {
   "cell_type": "code",
   "execution_count": 206,
   "metadata": {},
   "outputs": [
    {
     "data": {
      "text/html": [
       "<div>\n",
       "<style scoped>\n",
       "    .dataframe tbody tr th:only-of-type {\n",
       "        vertical-align: middle;\n",
       "    }\n",
       "\n",
       "    .dataframe tbody tr th {\n",
       "        vertical-align: top;\n",
       "    }\n",
       "\n",
       "    .dataframe thead th {\n",
       "        text-align: right;\n",
       "    }\n",
       "</style>\n",
       "<table border=\"1\" class=\"dataframe\">\n",
       "  <thead>\n",
       "    <tr style=\"text-align: right;\">\n",
       "      <th></th>\n",
       "      <th>precinct</th>\n",
       "      <th>eth</th>\n",
       "      <th>popl</th>\n",
       "      <th>stops</th>\n",
       "      <th>past</th>\n",
       "      <th>race</th>\n",
       "      <th>black</th>\n",
       "      <th>hispanic</th>\n",
       "      <th>white</th>\n",
       "    </tr>\n",
       "  </thead>\n",
       "  <tbody>\n",
       "    <tr>\n",
       "      <th>0</th>\n",
       "      <td>1</td>\n",
       "      <td>1</td>\n",
       "      <td>1720</td>\n",
       "      <td>202</td>\n",
       "      <td>980</td>\n",
       "      <td>black</td>\n",
       "      <td>1</td>\n",
       "      <td>0</td>\n",
       "      <td>0</td>\n",
       "    </tr>\n",
       "    <tr>\n",
       "      <th>1</th>\n",
       "      <td>1</td>\n",
       "      <td>2</td>\n",
       "      <td>1368</td>\n",
       "      <td>102</td>\n",
       "      <td>295</td>\n",
       "      <td>hispanic</td>\n",
       "      <td>0</td>\n",
       "      <td>1</td>\n",
       "      <td>0</td>\n",
       "    </tr>\n",
       "    <tr>\n",
       "      <th>2</th>\n",
       "      <td>1</td>\n",
       "      <td>3</td>\n",
       "      <td>23854</td>\n",
       "      <td>81</td>\n",
       "      <td>381</td>\n",
       "      <td>white</td>\n",
       "      <td>0</td>\n",
       "      <td>0</td>\n",
       "      <td>1</td>\n",
       "    </tr>\n",
       "    <tr>\n",
       "      <th>3</th>\n",
       "      <td>2</td>\n",
       "      <td>1</td>\n",
       "      <td>2596</td>\n",
       "      <td>132</td>\n",
       "      <td>753</td>\n",
       "      <td>black</td>\n",
       "      <td>1</td>\n",
       "      <td>0</td>\n",
       "      <td>0</td>\n",
       "    </tr>\n",
       "    <tr>\n",
       "      <th>4</th>\n",
       "      <td>2</td>\n",
       "      <td>2</td>\n",
       "      <td>6844</td>\n",
       "      <td>144</td>\n",
       "      <td>557</td>\n",
       "      <td>hispanic</td>\n",
       "      <td>0</td>\n",
       "      <td>1</td>\n",
       "      <td>0</td>\n",
       "    </tr>\n",
       "    <tr>\n",
       "      <th>5</th>\n",
       "      <td>2</td>\n",
       "      <td>3</td>\n",
       "      <td>9379</td>\n",
       "      <td>71</td>\n",
       "      <td>431</td>\n",
       "      <td>white</td>\n",
       "      <td>0</td>\n",
       "      <td>0</td>\n",
       "      <td>1</td>\n",
       "    </tr>\n",
       "    <tr>\n",
       "      <th>6</th>\n",
       "      <td>3</td>\n",
       "      <td>1</td>\n",
       "      <td>2092</td>\n",
       "      <td>752</td>\n",
       "      <td>2188</td>\n",
       "      <td>black</td>\n",
       "      <td>1</td>\n",
       "      <td>0</td>\n",
       "      <td>0</td>\n",
       "    </tr>\n",
       "    <tr>\n",
       "      <th>7</th>\n",
       "      <td>3</td>\n",
       "      <td>2</td>\n",
       "      <td>3633</td>\n",
       "      <td>441</td>\n",
       "      <td>627</td>\n",
       "      <td>hispanic</td>\n",
       "      <td>0</td>\n",
       "      <td>1</td>\n",
       "      <td>0</td>\n",
       "    </tr>\n",
       "    <tr>\n",
       "      <th>8</th>\n",
       "      <td>3</td>\n",
       "      <td>3</td>\n",
       "      <td>56304</td>\n",
       "      <td>410</td>\n",
       "      <td>1238</td>\n",
       "      <td>white</td>\n",
       "      <td>0</td>\n",
       "      <td>0</td>\n",
       "      <td>1</td>\n",
       "    </tr>\n",
       "    <tr>\n",
       "      <th>9</th>\n",
       "      <td>4</td>\n",
       "      <td>1</td>\n",
       "      <td>5699</td>\n",
       "      <td>385</td>\n",
       "      <td>471</td>\n",
       "      <td>black</td>\n",
       "      <td>1</td>\n",
       "      <td>0</td>\n",
       "      <td>0</td>\n",
       "    </tr>\n",
       "  </tbody>\n",
       "</table>\n",
       "</div>"
      ],
      "text/plain": [
       "   precinct  eth   popl  stops  past      race  black  hispanic  white\n",
       "0         1    1   1720    202   980     black      1         0      0\n",
       "1         1    2   1368    102   295  hispanic      0         1      0\n",
       "2         1    3  23854     81   381     white      0         0      1\n",
       "3         2    1   2596    132   753     black      1         0      0\n",
       "4         2    2   6844    144   557  hispanic      0         1      0\n",
       "5         2    3   9379     71   431     white      0         0      1\n",
       "6         3    1   2092    752  2188     black      1         0      0\n",
       "7         3    2   3633    441   627  hispanic      0         1      0\n",
       "8         3    3  56304    410  1238     white      0         0      1\n",
       "9         4    1   5699    385   471     black      1         0      0"
      ]
     },
     "execution_count": 206,
     "metadata": {},
     "output_type": "execute_result"
    }
   ],
   "source": [
    "orig['black'] = orig.apply(lambda row: row.eth==1, axis=1).astype(int)\n",
    "orig['hispanic'] = orig.apply(lambda row: row.eth==2, axis=1).astype(int)\n",
    "orig['white'] = orig.apply(lambda row: row.eth==3, axis=1).astype(int)\n",
    "orig.head(10)"
   ]
  },
  {
   "cell_type": "markdown",
   "metadata": {},
   "source": [
    "11) We will fit a linear model with $\\mathtt{stops}$ as output, and $\\mathtt{popl, past, black}$ and $\\mathtt{hisp}$ as inputs.\n",
    "\n",
    "__Interpretation__: For the _same_ population size and crime rate, the coefficient of black gives the change in the number of stops if that population were a black instead of white. Similarly for the coefficient of hispanic. The current dataset would have no evidence of police bias if these two coefficients were close to 0.\n",
    "\n",
    "To decide if deviations from 0 are big, we will compare these with the mean/median precint population, and the mean/median number of stops."
   ]
  },
  {
   "cell_type": "code",
   "execution_count": 207,
   "metadata": {},
   "outputs": [
    {
     "name": "stdout",
     "output_type": "stream",
     "text": [
      "Parameters\n",
      "Intercept   -156.289946\n",
      "popl           0.006039\n",
      "past           0.265046\n",
      "black        492.745874\n",
      "hispanic     347.103798\n",
      "dtype: float64\n"
     ]
    }
   ],
   "source": [
    "a = smf.ols('stops~popl+past+black+hispanic', data=orig)\n",
    "rslt5 = a.fit()\n",
    "\n",
    "print('Parameters')\n",
    "print(rslt5.params)\n"
   ]
  },
  {
   "cell_type": "code",
   "execution_count": 208,
   "metadata": {},
   "outputs": [
    {
     "name": "stdout",
     "output_type": "stream",
     "text": [
      "Black popl Mean, Median:  24878.6 , 14356.0\n",
      "Black stops Mean, Median:  930.9733333333334 , 711.0\n",
      "Hispanic popl Mean, Median: 23096.92 , 15774.0\n",
      "Hispanic stops Mean, Median: 594.9733333333334 , 400.0\n",
      "White popl Mean, Median: 42338.05333333334 , 29931.0\n",
      "White stops Mean, Median: 226.32 , 711.0\n"
     ]
    }
   ],
   "source": [
    "print('Black popl Mean, Median: ', orig[orig['eth']==1].mean()['popl'], ',', orig[orig['eth']==1].median()['popl'])\n",
    "print('Black stops Mean, Median: ', orig[orig['eth']==1].mean()['stops'], ',',orig[orig['eth']==1].median()['stops'])\n",
    "print('Hispanic popl Mean, Median:', orig[orig['eth']==2].mean()['popl'], ',',orig[orig['eth']==2].median()['popl'])\n",
    "print('Hispanic stops Mean, Median:', orig[orig['eth']==2].mean()['stops'], ',',orig[orig['eth']==2].median()['stops'])\n",
    "print('White popl Mean, Median:', orig[orig['eth']==3].mean()['popl'], ',',orig[orig['eth']==3].median()['popl'])\n",
    "print('White stops Mean, Median:', orig[orig['eth']==3].mean()['stops'], ',',orig[orig['eth']==1].median()['stops'])"
   ]
  },
  {
   "cell_type": "markdown",
   "metadata": {},
   "source": [
    "#### Compared to the values above, the black coefficient seems moderate to the mean and median values. The hispanic coefficient seems moderate compared to the values above."
   ]
  },
  {
   "cell_type": "markdown",
   "metadata": {},
   "source": [
    "As a last (and simpler) model, we note that with count data (e.g. population size, number of stops etc), it is often more convenient to work with log-counts rather than counts. \n",
    "\n",
    "12) We will add 3 new columns to frisk, $\\mathtt{logstops, logpast}$ and $\\mathtt{logpopl}$ obtained by taking logatithms of the corresponding columns. \n",
    "\n",
    "Next, we will plot a scatter plot of log-population of precinct (x-axis) vs log-number of stops in that precinct (y-axis) and fit a straight line.\n",
    "\n",
    "__Interpretation:__ the coefficient in this log-log model has a slightly more complicated interpretation, giving the percent change in output if the input changes by 1 percent. It economics, this coefficient is called _elasticity_."
   ]
  },
  {
   "cell_type": "code",
   "execution_count": 209,
   "metadata": {
    "scrolled": true
   },
   "outputs": [
    {
     "name": "stdout",
     "output_type": "stream",
     "text": [
      "There are 0 total zeros in popl, stops, past columns.\n"
     ]
    }
   ],
   "source": [
    "numInitZeros = orig[orig['popl']==0].shape[0] + orig[orig['stops']==0].shape[0] + orig[orig['past']==0].shape[0]\n",
    "print('There are %d total zeros in popl, stops, past columns.' %(numInitZeros))"
   ]
  },
  {
   "cell_type": "markdown",
   "metadata": {},
   "source": [
    "##### No need to replace zeros because there are none"
   ]
  },
  {
   "cell_type": "code",
   "execution_count": 210,
   "metadata": {},
   "outputs": [
    {
     "data": {
      "text/html": [
       "<div>\n",
       "<style scoped>\n",
       "    .dataframe tbody tr th:only-of-type {\n",
       "        vertical-align: middle;\n",
       "    }\n",
       "\n",
       "    .dataframe tbody tr th {\n",
       "        vertical-align: top;\n",
       "    }\n",
       "\n",
       "    .dataframe thead th {\n",
       "        text-align: right;\n",
       "    }\n",
       "</style>\n",
       "<table border=\"1\" class=\"dataframe\">\n",
       "  <thead>\n",
       "    <tr style=\"text-align: right;\">\n",
       "      <th></th>\n",
       "      <th>precinct</th>\n",
       "      <th>eth</th>\n",
       "      <th>popl</th>\n",
       "      <th>stops</th>\n",
       "      <th>past</th>\n",
       "      <th>race</th>\n",
       "      <th>black</th>\n",
       "      <th>hispanic</th>\n",
       "      <th>white</th>\n",
       "      <th>logstops</th>\n",
       "      <th>logpast</th>\n",
       "      <th>logpopl</th>\n",
       "    </tr>\n",
       "  </thead>\n",
       "  <tbody>\n",
       "    <tr>\n",
       "      <th>0</th>\n",
       "      <td>1</td>\n",
       "      <td>1</td>\n",
       "      <td>1720</td>\n",
       "      <td>202</td>\n",
       "      <td>980</td>\n",
       "      <td>black</td>\n",
       "      <td>1</td>\n",
       "      <td>0</td>\n",
       "      <td>0</td>\n",
       "      <td>2.305351</td>\n",
       "      <td>2.991226</td>\n",
       "      <td>3.235528</td>\n",
       "    </tr>\n",
       "    <tr>\n",
       "      <th>1</th>\n",
       "      <td>1</td>\n",
       "      <td>2</td>\n",
       "      <td>1368</td>\n",
       "      <td>102</td>\n",
       "      <td>295</td>\n",
       "      <td>hispanic</td>\n",
       "      <td>0</td>\n",
       "      <td>1</td>\n",
       "      <td>0</td>\n",
       "      <td>2.008600</td>\n",
       "      <td>2.469822</td>\n",
       "      <td>3.136086</td>\n",
       "    </tr>\n",
       "    <tr>\n",
       "      <th>2</th>\n",
       "      <td>1</td>\n",
       "      <td>3</td>\n",
       "      <td>23854</td>\n",
       "      <td>81</td>\n",
       "      <td>381</td>\n",
       "      <td>white</td>\n",
       "      <td>0</td>\n",
       "      <td>0</td>\n",
       "      <td>1</td>\n",
       "      <td>1.908485</td>\n",
       "      <td>2.580925</td>\n",
       "      <td>4.377561</td>\n",
       "    </tr>\n",
       "    <tr>\n",
       "      <th>3</th>\n",
       "      <td>2</td>\n",
       "      <td>1</td>\n",
       "      <td>2596</td>\n",
       "      <td>132</td>\n",
       "      <td>753</td>\n",
       "      <td>black</td>\n",
       "      <td>1</td>\n",
       "      <td>0</td>\n",
       "      <td>0</td>\n",
       "      <td>2.120574</td>\n",
       "      <td>2.876795</td>\n",
       "      <td>3.414305</td>\n",
       "    </tr>\n",
       "    <tr>\n",
       "      <th>4</th>\n",
       "      <td>2</td>\n",
       "      <td>2</td>\n",
       "      <td>6844</td>\n",
       "      <td>144</td>\n",
       "      <td>557</td>\n",
       "      <td>hispanic</td>\n",
       "      <td>0</td>\n",
       "      <td>1</td>\n",
       "      <td>0</td>\n",
       "      <td>2.158362</td>\n",
       "      <td>2.745855</td>\n",
       "      <td>3.835310</td>\n",
       "    </tr>\n",
       "    <tr>\n",
       "      <th>5</th>\n",
       "      <td>2</td>\n",
       "      <td>3</td>\n",
       "      <td>9379</td>\n",
       "      <td>71</td>\n",
       "      <td>431</td>\n",
       "      <td>white</td>\n",
       "      <td>0</td>\n",
       "      <td>0</td>\n",
       "      <td>1</td>\n",
       "      <td>1.851258</td>\n",
       "      <td>2.634477</td>\n",
       "      <td>3.972157</td>\n",
       "    </tr>\n",
       "    <tr>\n",
       "      <th>6</th>\n",
       "      <td>3</td>\n",
       "      <td>1</td>\n",
       "      <td>2092</td>\n",
       "      <td>752</td>\n",
       "      <td>2188</td>\n",
       "      <td>black</td>\n",
       "      <td>1</td>\n",
       "      <td>0</td>\n",
       "      <td>0</td>\n",
       "      <td>2.876218</td>\n",
       "      <td>3.340047</td>\n",
       "      <td>3.320562</td>\n",
       "    </tr>\n",
       "    <tr>\n",
       "      <th>7</th>\n",
       "      <td>3</td>\n",
       "      <td>2</td>\n",
       "      <td>3633</td>\n",
       "      <td>441</td>\n",
       "      <td>627</td>\n",
       "      <td>hispanic</td>\n",
       "      <td>0</td>\n",
       "      <td>1</td>\n",
       "      <td>0</td>\n",
       "      <td>2.644439</td>\n",
       "      <td>2.797268</td>\n",
       "      <td>3.560265</td>\n",
       "    </tr>\n",
       "    <tr>\n",
       "      <th>8</th>\n",
       "      <td>3</td>\n",
       "      <td>3</td>\n",
       "      <td>56304</td>\n",
       "      <td>410</td>\n",
       "      <td>1238</td>\n",
       "      <td>white</td>\n",
       "      <td>0</td>\n",
       "      <td>0</td>\n",
       "      <td>1</td>\n",
       "      <td>2.612784</td>\n",
       "      <td>3.092721</td>\n",
       "      <td>4.750539</td>\n",
       "    </tr>\n",
       "    <tr>\n",
       "      <th>9</th>\n",
       "      <td>4</td>\n",
       "      <td>1</td>\n",
       "      <td>5699</td>\n",
       "      <td>385</td>\n",
       "      <td>471</td>\n",
       "      <td>black</td>\n",
       "      <td>1</td>\n",
       "      <td>0</td>\n",
       "      <td>0</td>\n",
       "      <td>2.585461</td>\n",
       "      <td>2.673021</td>\n",
       "      <td>3.755799</td>\n",
       "    </tr>\n",
       "  </tbody>\n",
       "</table>\n",
       "</div>"
      ],
      "text/plain": [
       "   precinct  eth   popl  stops  past      race  black  hispanic  white  \\\n",
       "0         1    1   1720    202   980     black      1         0      0   \n",
       "1         1    2   1368    102   295  hispanic      0         1      0   \n",
       "2         1    3  23854     81   381     white      0         0      1   \n",
       "3         2    1   2596    132   753     black      1         0      0   \n",
       "4         2    2   6844    144   557  hispanic      0         1      0   \n",
       "5         2    3   9379     71   431     white      0         0      1   \n",
       "6         3    1   2092    752  2188     black      1         0      0   \n",
       "7         3    2   3633    441   627  hispanic      0         1      0   \n",
       "8         3    3  56304    410  1238     white      0         0      1   \n",
       "9         4    1   5699    385   471     black      1         0      0   \n",
       "\n",
       "   logstops   logpast   logpopl  \n",
       "0  2.305351  2.991226  3.235528  \n",
       "1  2.008600  2.469822  3.136086  \n",
       "2  1.908485  2.580925  4.377561  \n",
       "3  2.120574  2.876795  3.414305  \n",
       "4  2.158362  2.745855  3.835310  \n",
       "5  1.851258  2.634477  3.972157  \n",
       "6  2.876218  3.340047  3.320562  \n",
       "7  2.644439  2.797268  3.560265  \n",
       "8  2.612784  3.092721  4.750539  \n",
       "9  2.585461  2.673021  3.755799  "
      ]
     },
     "execution_count": 210,
     "metadata": {},
     "output_type": "execute_result"
    }
   ],
   "source": [
    "orig['logstops'] = np.log10(orig['stops'])\n",
    "orig['logpast'] = np.log10(orig['past'])\n",
    "orig['logpopl'] = np.log10(orig['popl'])\n",
    "\n",
    "orig.head(10)"
   ]
  },
  {
   "cell_type": "code",
   "execution_count": 211,
   "metadata": {},
   "outputs": [
    {
     "name": "stdout",
     "output_type": "stream",
     "text": [
      "AxesSubplot(0.125,0.125;0.775x0.755)\n"
     ]
    },
    {
     "data": {
      "text/plain": [
       "Intercept   -0.607629\n",
       "logpopl      0.181308\n",
       "logpast      0.841865\n",
       "dtype: float64"
      ]
     },
     "execution_count": 211,
     "metadata": {},
     "output_type": "execute_result"
    },
    {
     "data": {
      "image/png": "[encoded data removed]",
      "text/plain": [
       "<Figure size 432x288 with 1 Axes>"
      ]
     },
     "metadata": {},
     "output_type": "display_data"
    }
   ],
   "source": [
    "print(orig.plot(kind='scatter', x='logpopl', y='logstops', alpha=0.7))\n",
    "logMod = smf.ols('logstops~logpopl+logpast', data=orig)\n",
    "logRslt = logMod.fit()\n",
    "logRslt.params"
   ]
  },
  {
   "cell_type": "markdown",
   "metadata": {},
   "source": [
    "13) We have 4 interesting models for perdicting $\\mathtt{stops}$, with inputs $\\mathtt{(popl), (past), (popl,past)}$ and $\\mathtt{(popl,past,black,hist)}$. Our last model predicts log-stops from log-popl and log-past. We want to decide which one is most appropriate. We do this using cross-validation.\n",
    "+ Recall we have 75 precincts. For each 'fold' of cross-validation, we will hold out 5 precincts, train the models on the rest, and then test on 5 held-out precincts (15 datapoints). Thus there will be a total of 75/5 = 15 folds.\n",
    "+ For each fold and for each model, we will calculate the sum-squared-error between the predicted number of stops for the test data, and the true number of stops."
   ]
  },
  {
   "cell_type": "code",
   "execution_count": 212,
   "metadata": {},
   "outputs": [
    {
     "data": {
      "text/html": [
       "<div>\n",
       "<style scoped>\n",
       "    .dataframe tbody tr th:only-of-type {\n",
       "        vertical-align: middle;\n",
       "    }\n",
       "\n",
       "    .dataframe tbody tr th {\n",
       "        vertical-align: top;\n",
       "    }\n",
       "\n",
       "    .dataframe thead th {\n",
       "        text-align: right;\n",
       "    }\n",
       "</style>\n",
       "<table border=\"1\" class=\"dataframe\">\n",
       "  <thead>\n",
       "    <tr style=\"text-align: right;\">\n",
       "      <th></th>\n",
       "      <th>crossval1</th>\n",
       "      <th>crossval2</th>\n",
       "      <th>crossval3</th>\n",
       "      <th>crossval4</th>\n",
       "      <th>crossval5</th>\n",
       "    </tr>\n",
       "  </thead>\n",
       "  <tbody>\n",
       "    <tr>\n",
       "      <th>fold1</th>\n",
       "      <td>1.310001e+06</td>\n",
       "      <td>1.338251e+06</td>\n",
       "      <td>1.085139e+06</td>\n",
       "      <td>8.247652e+05</td>\n",
       "      <td>8.670218e+05</td>\n",
       "    </tr>\n",
       "    <tr>\n",
       "      <th>fold2</th>\n",
       "      <td>2.190008e+06</td>\n",
       "      <td>4.395595e+06</td>\n",
       "      <td>3.604711e+06</td>\n",
       "      <td>2.087916e+06</td>\n",
       "      <td>1.223761e+06</td>\n",
       "    </tr>\n",
       "    <tr>\n",
       "      <th>fold3</th>\n",
       "      <td>6.334568e+06</td>\n",
       "      <td>6.418992e+05</td>\n",
       "      <td>1.517649e+06</td>\n",
       "      <td>1.979765e+06</td>\n",
       "      <td>7.941118e+05</td>\n",
       "    </tr>\n",
       "    <tr>\n",
       "      <th>fold3</th>\n",
       "      <td>6.334568e+06</td>\n",
       "      <td>6.418992e+05</td>\n",
       "      <td>1.517649e+06</td>\n",
       "      <td>1.979765e+06</td>\n",
       "      <td>7.941118e+05</td>\n",
       "    </tr>\n",
       "    <tr>\n",
       "      <th>fold4</th>\n",
       "      <td>1.602059e+06</td>\n",
       "      <td>4.243342e+06</td>\n",
       "      <td>3.547798e+06</td>\n",
       "      <td>2.467092e+06</td>\n",
       "      <td>3.760614e+06</td>\n",
       "    </tr>\n",
       "    <tr>\n",
       "      <th>fold5</th>\n",
       "      <td>8.708898e+06</td>\n",
       "      <td>3.907404e+06</td>\n",
       "      <td>3.824318e+06</td>\n",
       "      <td>3.113515e+06</td>\n",
       "      <td>3.170535e+06</td>\n",
       "    </tr>\n",
       "    <tr>\n",
       "      <th>fold6</th>\n",
       "      <td>3.559031e+06</td>\n",
       "      <td>6.614046e+06</td>\n",
       "      <td>6.367340e+06</td>\n",
       "      <td>5.519985e+06</td>\n",
       "      <td>7.905650e+06</td>\n",
       "    </tr>\n",
       "    <tr>\n",
       "      <th>fold7</th>\n",
       "      <td>4.095259e+06</td>\n",
       "      <td>1.846962e+06</td>\n",
       "      <td>2.085187e+06</td>\n",
       "      <td>1.467858e+06</td>\n",
       "      <td>2.094228e+06</td>\n",
       "    </tr>\n",
       "    <tr>\n",
       "      <th>fold8</th>\n",
       "      <td>3.089607e+06</td>\n",
       "      <td>5.650332e+05</td>\n",
       "      <td>5.447557e+05</td>\n",
       "      <td>6.112279e+05</td>\n",
       "      <td>1.194781e+06</td>\n",
       "    </tr>\n",
       "    <tr>\n",
       "      <th>fold9</th>\n",
       "      <td>8.425421e+06</td>\n",
       "      <td>2.927927e+06</td>\n",
       "      <td>2.878649e+06</td>\n",
       "      <td>2.379783e+06</td>\n",
       "      <td>2.279649e+06</td>\n",
       "    </tr>\n",
       "    <tr>\n",
       "      <th>fold10</th>\n",
       "      <td>7.462652e+06</td>\n",
       "      <td>1.306811e+06</td>\n",
       "      <td>1.350045e+06</td>\n",
       "      <td>1.430380e+06</td>\n",
       "      <td>1.041615e+06</td>\n",
       "    </tr>\n",
       "    <tr>\n",
       "      <th>fold11</th>\n",
       "      <td>1.756157e+06</td>\n",
       "      <td>5.701519e+05</td>\n",
       "      <td>5.284028e+05</td>\n",
       "      <td>6.200743e+05</td>\n",
       "      <td>5.279208e+05</td>\n",
       "    </tr>\n",
       "    <tr>\n",
       "      <th>fold12</th>\n",
       "      <td>6.912117e+06</td>\n",
       "      <td>2.582634e+06</td>\n",
       "      <td>2.746499e+06</td>\n",
       "      <td>2.375598e+06</td>\n",
       "      <td>2.403729e+06</td>\n",
       "    </tr>\n",
       "    <tr>\n",
       "      <th>fold13</th>\n",
       "      <td>3.289558e+06</td>\n",
       "      <td>1.523408e+06</td>\n",
       "      <td>1.502909e+06</td>\n",
       "      <td>9.920658e+05</td>\n",
       "      <td>1.732047e+06</td>\n",
       "    </tr>\n",
       "    <tr>\n",
       "      <th>fold14</th>\n",
       "      <td>4.589988e+06</td>\n",
       "      <td>3.402481e+06</td>\n",
       "      <td>2.821826e+06</td>\n",
       "      <td>2.166534e+06</td>\n",
       "      <td>3.050149e+06</td>\n",
       "    </tr>\n",
       "    <tr>\n",
       "      <th>fold15</th>\n",
       "      <td>8.377000e+06</td>\n",
       "      <td>3.818060e+06</td>\n",
       "      <td>3.798020e+06</td>\n",
       "      <td>3.772071e+06</td>\n",
       "      <td>3.698202e+06</td>\n",
       "    </tr>\n",
       "  </tbody>\n",
       "</table>\n",
       "</div>"
      ],
      "text/plain": [
       "           crossval1     crossval2     crossval3     crossval4     crossval5\n",
       "fold1   1.310001e+06  1.338251e+06  1.085139e+06  8.247652e+05  8.670218e+05\n",
       "fold2   2.190008e+06  4.395595e+06  3.604711e+06  2.087916e+06  1.223761e+06\n",
       "fold3   6.334568e+06  6.418992e+05  1.517649e+06  1.979765e+06  7.941118e+05\n",
       "fold3   6.334568e+06  6.418992e+05  1.517649e+06  1.979765e+06  7.941118e+05\n",
       "fold4   1.602059e+06  4.243342e+06  3.547798e+06  2.467092e+06  3.760614e+06\n",
       "fold5   8.708898e+06  3.907404e+06  3.824318e+06  3.113515e+06  3.170535e+06\n",
       "fold6   3.559031e+06  6.614046e+06  6.367340e+06  5.519985e+06  7.905650e+06\n",
       "fold7   4.095259e+06  1.846962e+06  2.085187e+06  1.467858e+06  2.094228e+06\n",
       "fold8   3.089607e+06  5.650332e+05  5.447557e+05  6.112279e+05  1.194781e+06\n",
       "fold9   8.425421e+06  2.927927e+06  2.878649e+06  2.379783e+06  2.279649e+06\n",
       "fold10  7.462652e+06  1.306811e+06  1.350045e+06  1.430380e+06  1.041615e+06\n",
       "fold11  1.756157e+06  5.701519e+05  5.284028e+05  6.200743e+05  5.279208e+05\n",
       "fold12  6.912117e+06  2.582634e+06  2.746499e+06  2.375598e+06  2.403729e+06\n",
       "fold13  3.289558e+06  1.523408e+06  1.502909e+06  9.920658e+05  1.732047e+06\n",
       "fold14  4.589988e+06  3.402481e+06  2.821826e+06  2.166534e+06  3.050149e+06\n",
       "fold15  8.377000e+06  3.818060e+06  3.798020e+06  3.772071e+06  3.698202e+06"
      ]
     },
     "execution_count": 212,
     "metadata": {},
     "output_type": "execute_result"
    }
   ],
   "source": [
    "#First model\n",
    "mod1 = {}\n",
    "j = 0\n",
    "for i in range(1, 75, 5):\n",
    "    j += 1\n",
    "    drop = list(orig[orig['precinct'].between(i, i+4)].index)\n",
    "    \n",
    "    test = orig[orig['precinct'].between(i, i+4)]\n",
    "    \n",
    "    train = orig.drop(drop)\n",
    "    \n",
    "    mod = smf.ols('stops~popl', data=train)\n",
    "    rslt = mod.fit()\n",
    "    \n",
    "    pred = rslt.predict(test['popl'])\n",
    "    sse = ((test['stops'] - pred)**2).sum().sum()\n",
    "    mod1['fold' + str(j)] = sse\n",
    "\n",
    "    \n",
    "\n",
    "# #Second model\n",
    "mod2 = {}\n",
    "j=0\n",
    "for i in range(1, 75, 5):\n",
    "    j += 1\n",
    "    drop = list(orig[orig['precinct'].between(i, i+4)].index)\n",
    "    \n",
    "    test = orig[orig['precinct'].between(i, i+4)]\n",
    "    \n",
    "    train = orig.drop(drop)\n",
    "    \n",
    "    mod = smf.ols('stops~past', data=train)\n",
    "    rslt = mod.fit()\n",
    "    \n",
    "    pred = rslt.predict(test['past'])\n",
    "    sse = ((test['stops'] - pred)**2).sum().sum()\n",
    "    mod2['fold' + str(j)] = sse\n",
    "\n",
    "\n",
    "# Third model\n",
    "mod3 = {}\n",
    "j=0\n",
    "for i in range(1, 75, 5):\n",
    "    j += 1\n",
    "    drop = list(orig[orig['precinct'].between(i, i+4)].index)\n",
    "    \n",
    "    test = orig[orig['precinct'].between(i, i+4)]\n",
    "    \n",
    "    train = orig.drop(drop)\n",
    "    \n",
    "    mod = smf.ols('stops~popl+past', data=train)\n",
    "    rslt = mod.fit()\n",
    "    \n",
    "    pred = rslt.predict(test[['popl', 'past']])\n",
    "    sse = ((test['stops'] - pred)**2).sum().sum()\n",
    "    mod3['fold' + str(j)] = sse\n",
    "\n",
    "\n",
    "# Fourth model\n",
    "mod4 = {}\n",
    "j=0\n",
    "for i in range(1, 75, 5):\n",
    "    j += 1\n",
    "    drop = list(orig[orig['precinct'].between(i, i+4)].index)\n",
    "    \n",
    "    test = orig[orig['precinct'].between(i, i+4)]\n",
    "    \n",
    "    train = orig.drop(drop)\n",
    "    \n",
    "    mod = smf.ols('stops~popl+past+black+hispanic', data=train)\n",
    "    rslt = mod.fit()\n",
    "    \n",
    "    pred = rslt.predict(test[['popl', 'past', 'black', 'hispanic']])\n",
    "    sse = ((test['stops'] - pred)**2).sum().sum()\n",
    "    mod4['fold' + str(j)] = sse\n",
    "\n",
    "      \n",
    "# Fifth model\n",
    "mod5 = {}\n",
    "j=0\n",
    "for i in range(1, 75, 5):\n",
    "    j += 1\n",
    "    drop = list(orig[orig['precinct'].between(i, i+4)].index)\n",
    "    \n",
    "    test = orig[orig['precinct'].between(i, i+4)]\n",
    "    \n",
    "    train = orig.drop(drop)\n",
    "    \n",
    "    mod = smf.ols('logstops~logpopl+logpast', data=train)\n",
    "    rslt = mod.fit()\n",
    "    \n",
    "    pred = rslt.predict(test[['logpopl', 'logpast']])\n",
    "    pred = 10**pred\n",
    "    \n",
    "    sse = ((test['stops'] - pred)**2).sum().sum()\n",
    "    mod5['fold' + str(j)] = sse\n",
    "\n",
    "SSE = pd.DataFrame([mod1, mod2, mod3, mod4, mod5], index=['crossval1', 'crossval2', 'crossval3', 'crossval4', 'crossval5'])\n",
    "columns = ['fold1', 'fold2', 'fold3', 'fold3', 'fold4', 'fold5', 'fold6', 'fold7', 'fold8', 'fold9', 'fold10', 'fold11', 'fold12', 'fold13', 'fold14', 'fold15']\n",
    "SSE = SSE[columns].T\n",
    "SSE\n"
   ]
  },
  {
   "cell_type": "markdown",
   "metadata": {},
   "source": [
    "14) We will now create a plot consisting of 5 boxplots, giving the test sum-squared errors for the 5 models across all the folds. \n",
    "\n",
    "Next, we will create a plot consisting of 2 boxplots, the coefficients of the parameters 'black' and 'hispanic' for the 4th model across all folds."
   ]
  },
  {
   "cell_type": "code",
   "execution_count": 213,
   "metadata": {},
   "outputs": [
    {
     "data": {
      "text/plain": [
       "<matplotlib.axes._subplots.AxesSubplot at 0x7fb7bd9129b0>"
      ]
     },
     "execution_count": 213,
     "metadata": {},
     "output_type": "execute_result"
    },
    {
     "data": {
      "image/png": "[encoded data removed]",
      "text/plain": [
       "<Figure size 432x288 with 1 Axes>"
      ]
     },
     "metadata": {},
     "output_type": "display_data"
    }
   ],
   "source": [
    "SSE.boxplot()"
   ]
  },
  {
   "cell_type": "markdown",
   "metadata": {},
   "source": [
    "### Ordering (Best to Worse)\n",
    "- 1st: Model 4\n",
    "- 2nd: Model 5\n",
    "- 3rd: Model 3\n",
    "- 4th: Model 2\n",
    "- 5th: Model 1\n",
    "\n",
    "- Model 4 is the obvious winner because of the small length tails. We are basing my ranking off of the length of the tails and the length of the box.\n",
    "- Idealy, a model with low error, small tails, and a small box would be the best model. "
   ]
  },
  {
   "cell_type": "code",
   "execution_count": 214,
   "metadata": {},
   "outputs": [
    {
     "data": {
      "text/plain": [
       "<matplotlib.axes._subplots.AxesSubplot at 0x7fb7bd8d0a90>"
      ]
     },
     "execution_count": 214,
     "metadata": {},
     "output_type": "execute_result"
    },
    {
     "data": {
      "image/png": "[encoded data removed]",
      "text/plain": [
       "<Figure size 432x288 with 1 Axes>"
      ]
     },
     "metadata": {},
     "output_type": "display_data"
    }
   ],
   "source": [
    "# Fourth model\n",
    "mod4 = {}\n",
    "j=0\n",
    "hisp = []\n",
    "black = []\n",
    "for i in range(1, 75, 5):\n",
    "    j += 1\n",
    "    drop = list(orig[orig['precinct'].between(i, i+4)].index)\n",
    "    \n",
    "    test = orig[orig['precinct'].between(i, i+4)]\n",
    "    \n",
    "    train = orig.drop(drop)\n",
    "    \n",
    "    mod = smf.ols('stops~popl+past+black+hispanic', data=train)\n",
    "    rslt = mod.fit()\n",
    "    hisp.append(rslt.params['hispanic'])\n",
    "    black.append(rslt.params['black'])\n",
    "    \n",
    "model4 = pd.DataFrame({'Hispanic': hisp, 'Black': black})\n",
    "model4.boxplot()\n",
    "    \n"
   ]
  },
  {
   "cell_type": "markdown",
   "metadata": {},
   "source": [
    "#### Hispanic coefficiencts seem to be much less than the black coefficients for the folds."
   ]
  },
  {
   "cell_type": "markdown",
   "metadata": {},
   "source": [
    "__Conclusion__: A thorough assessment of the stop-and-frisk policy requires for sophisticated modeling (e.g. nonlinearities and interaction terms), more kinds of data (e.g. what proportion of stopped people were found to be innocent? Did the policy actually result in a reduction in crime? Is any reduction in crime worth the loss in civil liberties?). See e.g. [here](https://www.nyclu.org/en/stop-and-frisk-data). Nevertheless, it is widely agreed now that this was an unfair and harmful policy. If you are interested, [here](https://www.huffpost.com/entry/nypd-stop-and-frisks-15-shocking-facts_n_1513362) is an article from the left, and [here](https://www.nationalreview.com/2018/01/new-york-city-stop-and-frisk-crime-decline-conservatives-wrong/) is one from the right."
   ]
  }
 ],
 "metadata": {
  "kernelspec": {
   "display_name": "Python 3",
   "language": "python",
   "name": "python3"
  },
  "language_info": {
   "codemirror_mode": {
    "name": "ipython",
    "version": 3
   },
   "file_extension": ".py",
   "mimetype": "text/x-python",
   "name": "python",
   "nbconvert_exporter": "python",
   "pygments_lexer": "ipython3",
   "version": "3.7.4"
  }
 },
 "nbformat": 4,
 "nbformat_minor": 2
}
